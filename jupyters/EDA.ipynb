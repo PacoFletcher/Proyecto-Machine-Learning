{
 "cells": [
  {
   "cell_type": "markdown",
   "id": "5d3d2d88",
   "metadata": {},
   "source": [
    "# Procesamiento y análisis de datos"
   ]
  },
  {
   "cell_type": "code",
   "execution_count": null,
   "id": "f09ddbbf",
   "metadata": {},
   "outputs": [],
   "source": []
  }
 ],
 "metadata": {
  "language_info": {
   "name": "python"
  }
 },
 "nbformat": 4,
 "nbformat_minor": 5
}
